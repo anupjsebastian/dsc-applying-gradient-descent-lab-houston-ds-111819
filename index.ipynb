{
 "cells": [
  {
   "cell_type": "markdown",
   "metadata": {},
   "source": [
    "# Applying Gradient Descent - Lab\n",
    "\n",
    "## Introduction\n",
    "\n",
    "In the last lesson, we derived the functions that we help us descend along our cost functions efficiently.  Remember that this technique is not so different from what we saw with using the derivative to tell us our next step size and direction in two dimensions.  \n",
    "\n",
    "![](./images/slopes.png)\n",
    "\n",
    "When descending along our cost curve in two dimensions, we used the slope of the tangent line at each point, to tell us how large of a step to take next.  And with the cost curve being a function of $m$ and $b$, we had to use the gradient to determine each step.  \n",
    "\n",
    "<img src=\"./images/new_gradientdescent.png\" width=\"600\">\n",
    "\n",
    "But really it's an analogous approach.  Just like we can calculate the use derivative of a function $f(x)$ to calculate the slope at a given value of $x$ on the graph and thus our next step.  Here, we calculated the partial derivative with respect to both variables, our slope and y-intercept, to calculate the amount to move next in either direction and thus to steer us towards our minimum.   \n",
    "\n",
    "## Objectives\n",
    "\n",
    "You will be able to:\n",
    "* Create functions to perform a simulation of gradient descent for an actual dataset\n",
    "* Represent RSS as a multivariable function and take partial derivatives to perform gradient descent\n",
    "\n",
    "## Reviewing our gradient descent formulas\n",
    "\n",
    "Luckily for us, we already did the hard work of deriving these formulas.  Now we get to see the fruit of our labor.  The following formulas tell us how to update regression variables of $m$ and $b$ to approach a \"best fit\" line.   \n",
    "\n",
    "- $ \\frac{dJ}{dm}J(m,b) = -2\\sum_{i = 1}^n x_i(y_i - (mx_i + b)) = -2\\sum_{i = 1}^n x_i*\\epsilon_i$ \n",
    "- $ \\frac{dJ}{db}J(m,b) = -2\\sum_{i = 1}^n(y_i - (mx_i + b)) = -2\\sum_{i = 1}^n \\epsilon_i $\n",
    "\n",
    "Now the formulas above tell us to take some dataset, with values of $x$ and $y$, and then given a regression formula with values $m$ and $b$, iterate through our dataset, and use the formulas to calculate an update to $m$ and $b$.  So ultimately, to descend along the cost function, we will use the calculations:\n",
    "\n",
    "`current_m` = `old_m` $ -  (-2*\\sum_{i=1}^n x_i*\\epsilon_i )$\n",
    "\n",
    "`current_b` =  `old_b` $ - ( -2*\\sum_{i=1}^n \\epsilon_i )$\n",
    "\n",
    "Ok let's turn this into code.  First, let's initialize our data like we did before:"
   ]
  },
  {
   "cell_type": "code",
   "execution_count": 1,
   "metadata": {},
   "outputs": [
    {
     "data": {
      "image/png": "[encoded data removed]",
      "text/plain": [
       "<Figure size 432x288 with 1 Axes>"
      ]
     },
     "metadata": {
      "needs_background": "light"
     },
     "output_type": "display_data"
    }
   ],
   "source": [
    "import numpy as np\n",
    "np.set_printoptions(formatter={'float_kind':'{:f}'.format})\n",
    "import matplotlib.pyplot as plt\n",
    "%matplotlib inline\n",
    "np.random.seed(225)\n",
    "\n",
    "x = np.random.rand(30, 1).reshape(30)\n",
    "y_randterm = np.random.normal(0,3,30)\n",
    "y = 3 + 50* x + y_randterm\n",
    "\n",
    "data = np.array([y, x])\n",
    "data = np.transpose(data)\n",
    "\n",
    "plt.plot(x, y, '.b')\n",
    "plt.xlabel(\"x\", fontsize=14)\n",
    "plt.ylabel(\"y\", fontsize=14);"
   ]
  },
  {
   "cell_type": "markdown",
   "metadata": {},
   "source": [
    "Now\n",
    "\n",
    "- Let's set our initial regression line by initializing $m$ and $b$ variables as zero.  Store them in `b_current` and `m_current`.\n",
    "- Let's next initialize updates to these variables by setting the variables, `update_to_b` and `update_to_m` equal to 0.\n",
    "- Define an `error_at` function which returns the error $\\epsilon_i$ for a given $i$. The parameters are:\n",
    "> point: a row of the particular data set  \n",
    "> $b$: the intercept term  \n",
    "> $m$: the slope  \n",
    "\n",
    "- Them, use this `error_at` function to iterate through each of the points in the dataset, and at each iteration change our `update_to_b` by $2*\\epsilon$ and change our `update_to_m` by $2*x*\\epsilon$."
   ]
  },
  {
   "cell_type": "code",
   "execution_count": 2,
   "metadata": {},
   "outputs": [],
   "source": [
    "# initial variables of our regression line\n",
    "m_current, b_current = 0, 0\n",
    "\n",
    "\n",
    "#amount to update our variables for our next step\n",
    "update_to_m, update_to_b = 0, 0\n",
    "\n",
    "# Define the error_at function\n",
    "def error_at(point, b, m):\n",
    "    return (point[0]- (m * point[1]  + b))\n",
    "\n",
    "# iterate through data to change update_to_b and update_to_m\n",
    "for i in range(len(data)):\n",
    "    update_to_b += -2 * error_at(data[i], b_current, m_current)\n",
    "    update_to_m += -2 * error_at(data[i], b_current, m_current) * data[i][1]\n",
    "\n",
    "\n",
    "# Create new_b and new_m by subtracting the updates from the current estimates\n",
    "new_b = b_current - update_to_b\n",
    "new_m = m_current - update_to_m\n"
   ]
  },
  {
   "cell_type": "markdown",
   "metadata": {},
   "source": [
    "In the last two lines of the code above, we calculate our `new_b` and `new_m` values by updating our taking our current values and adding our respective updates.  We define a function called `error_at`, which we can use in the error component of our partial derivatives above.\n",
    "\n",
    "The code above represents **just one** update to our regression line, and therefore just one step towards our best fit line.  We'll just repeat the process to take multiple steps.  But first, we have to make a couple of other changes. \n",
    "\n",
    "## Tweaking our approach \n",
    "\n",
    "Ok, the above code is very close to what we want, but we just need to make tweaks to our code before it's perfect.\n",
    "\n",
    "The first one is obvious if we think about what these formulas are really telling us to do.  Look at the graph below, and think about what it means to change each of our $m$ and $b$ variables by at least the sum of all of the errors, of the $y$ values that our regression line predicts and our actual data.  That would be an enormous change.  To ensure that we drastically updating our regression line with each step, we multiply each of these partial derivatives by a learning rate.  As we have seen before, the learning rate is just a small number, like $.\n",
    "01$ which controls how large our updates to the regression line will be.  The learning rate is  represented by the Greek letter eta, $\\eta$, or alpha $\\alpha$.  We'll use eta, so $\\eta = .01$ means the learning rate is $.01$.\n",
    "\n",
    "Multiplying our step size by our learning rate works fine, so long as we multiply both of the partial derivatives by the same amount.  This is because without gradient,  $ \\nabla J(m,b)$, we think of as steering us in the correct direction.  In other words, our derivatives ensure we are making the correct **proportional** changes to $m$ and $b$.  So scaling down these changes to make sure we don't update our regression line too quickly works fine, so long as we keep me moving in the correct direction.  While we're at it, we can also get rid of multiplying our partials by 2.  As mentioned, so long as our changes are proportional we're in good shape. \n",
    "\n",
    "For our second tweak, note that in general the larger the dataset, the larger the sum of our errors would be.  But that doesn't mean our formulas are less accurate, and there deserve larger changes.  It just means that the total error is larger.  But we should really think accuracy as being proportional to the size of our dataset.  We can correct for this effect by dividing the effect of our update by the size of our dataset, $n$.\n",
    "\n",
    "Make these changes below:"
   ]
  },
  {
   "cell_type": "code",
   "execution_count": 3,
   "metadata": {},
   "outputs": [],
   "source": [
    "#amount to update our variables for our next step\n",
    "update_to_m, update_to_b = 0, 0\n",
    "\n",
    "# define learning rate and n\n",
    "learning_rate = .01\n",
    "n = len(data)\n",
    "\n",
    "# create update_to_b and update_to_m\n",
    "for i in range(n):\n",
    "    update_to_b += -(1/n) * error_at(data[i], b_current, m_current)\n",
    "    update_to_m += -(1/n) * error_at(data[i], b_current, m_current) * data[i][1]\n",
    "    \n",
    "# create new_b and new_m\n",
    "new_b = b_current - learning_rate * update_to_b\n",
    "new_m = m_current - learning_rate * update_to_m\n"
   ]
  },
  {
   "cell_type": "markdown",
   "metadata": {},
   "source": [
    "So our code now reflects what we know about our gradient descent process.  Start with an initial regression line with values of $m$ and $b$.  Then for each point, calculate how the regression line fares against the actual point (that is, find the error).  Update what the next step to the respective variable should be by using the partial derivative.  And after iterating through all of the points, update the value of $b$ and $m$ appropriately, scaled down by a learning rate.\n",
    "\n",
    "## Seeing our gradient descent formulas in action\n",
    "\n",
    "As mentioned earlier, the code above represents just one update to our regression line, and therefore just one step towards our best fit line.  To take multiple steps we wrap the process we want to duplicate in a function called `step_gradient` and then can call that function as much as we want. With this function:\n",
    "\n",
    "- Include a learning_rate of 0.1\n",
    "- Return a tuple of (b,m)  \n",
    "The parameters should be:\n",
    "> b_current : the starting value of b   \n",
    "> m_current : the starting value of m   \n",
    "> points : the number of points at which we want to check our gradient \n",
    "\n",
    "See if you can use your `error_at` function within the `step_gradient` function!"
   ]
  },
  {
   "cell_type": "code",
   "execution_count": 4,
   "metadata": {},
   "outputs": [],
   "source": [
    "def step_gradient(b_current, m_current, points):\n",
    "    #amount to update our variables for our next step\n",
    "    update_to_m, update_to_b = 0, 0\n",
    "\n",
    "    # define learning rate and n\n",
    "    learning_rate = 0.1\n",
    "    n = len(points)\n",
    "\n",
    "    # create update_to_b and update_to_m\n",
    "    for i in range(n):\n",
    "        update_to_b += -(1/n) * error_at(data[i], b_current, m_current)\n",
    "        update_to_m += -(1/n) * error_at(data[i], b_current, m_current) * data[i][1]\n",
    "\n",
    "    # create new_b and new_m\n",
    "    new_b = b_current - learning_rate * update_to_b\n",
    "    new_m = m_current - learning_rate * update_to_m\n",
    "    \n",
    "    return (new_b, new_m)"
   ]
  },
  {
   "cell_type": "markdown",
   "metadata": {},
   "source": [
    "Now let's initialize `b` and `m` as 0 and run a first iteration of the `step_gradient` function."
   ]
  },
  {
   "cell_type": "code",
   "execution_count": 5,
   "metadata": {},
   "outputs": [
    {
     "data": {
      "text/plain": [
       "(3.0250308395837813, 2.0728619246505193)"
      ]
     },
     "execution_count": 5,
     "metadata": {},
     "output_type": "execute_result"
    }
   ],
   "source": [
    "b, m = 0, 0\n",
    "b, m = step_gradient(b, m, data)\n",
    "b, m\n",
    "# b= 3.02503, m= 2.07286"
   ]
  },
  {
   "cell_type": "markdown",
   "metadata": {},
   "source": [
    "So just looking at input and output, we begin by setting $b$ and $m$ to 0 and 0.  Then from our step_gradient function, we receive new values of $b$ and $m$ of 3.02503 and 2.0728.  Now what we need to do, is take another step in the correct direction by calling our step gradient function with our updated values of $b$ and $m$."
   ]
  },
  {
   "cell_type": "code",
   "execution_count": 6,
   "metadata": {},
   "outputs": [
    {
     "data": {
      "text/plain": [
       "(5.634896312558807, 3.902265648903966)"
      ]
     },
     "execution_count": 6,
     "metadata": {},
     "output_type": "execute_result"
    }
   ],
   "source": [
    "b, m = step_gradient(b, m, data)\n",
    "b, m\n",
    "# b = 5.63489, m= 3.902265"
   ]
  },
  {
   "cell_type": "markdown",
   "metadata": {},
   "source": [
    "Let's do this, say, 1000 times."
   ]
  },
  {
   "cell_type": "code",
   "execution_count": 7,
   "metadata": {},
   "outputs": [],
   "source": [
    "# create a for loop to do this\n",
    "b, m = 0, 0\n",
    "iterations = []\n",
    "for i in range(1000):\n",
    "    iteration = step_gradient(b, m, data)\n",
    "    b = iteration[0]\n",
    "    m = iteration[1]\n",
    "    # update values of b and m\n",
    "    iterations.append(iteration)"
   ]
  },
  {
   "cell_type": "markdown",
   "metadata": {},
   "source": [
    "Let's take a look at the estimates in the last iteration."
   ]
  },
  {
   "cell_type": "code",
   "execution_count": 8,
   "metadata": {},
   "outputs": [
    {
     "data": {
      "text/plain": [
       "(3.1619764855577257, 49.84313430300858)"
      ]
     },
     "execution_count": 8,
     "metadata": {},
     "output_type": "execute_result"
    }
   ],
   "source": [
    "b, m"
   ]
  },
  {
   "cell_type": "markdown",
   "metadata": {},
   "source": [
    "As you can see, our  m  and  b  values both update with each step. Not only that, but with each step, the size of the changes to  m and  b  decrease. This is because they are approaching a best fit line.\n",
    "\n",
    "## Let's include 2 predictors, $x_1$ and $x_2$\n",
    "\n",
    "Below, we generated a problem where we have 2 predictors. We generated data such that the best fit line is around $\\hat y = 3x_1 -4x_2 +2$, noting that there is random noise introduced, so the final result will never be exactly that. Let's build what we built previously, but now create a `step_gradient_multi` function that can take an *arbitrary* number of predictors (so the function should be able to include more than 2 predictors as well). Good luck!"
   ]
  },
  {
   "cell_type": "code",
   "execution_count": 9,
   "metadata": {},
   "outputs": [],
   "source": [
    "import numpy as np\n",
    "import matplotlib.pyplot as plt\n",
    "np.random.seed(11)\n",
    "\n",
    "x1 = np.random.rand(100,1).reshape(100)\n",
    "x2 = np.random.rand(100,1).reshape(100)\n",
    "y_randterm = np.random.normal(0,0.2,100)\n",
    "y = 2+ 3* x1+ -4*x2 + y_randterm\n",
    "\n",
    "data = np.array([y, x1, x2])\n",
    "data = np.transpose(data)"
   ]
  },
  {
   "cell_type": "code",
   "execution_count": 10,
   "metadata": {},
   "outputs": [
    {
     "data": {
      "image/png": "[encoded data removed]",
      "text/plain": [
       "<Figure size 720x360 with 2 Axes>"
      ]
     },
     "metadata": {
      "needs_background": "light"
     },
     "output_type": "display_data"
    }
   ],
   "source": [
    "f, (ax1, ax2) = plt.subplots(1, 2, figsize=(10, 5), sharey=True)\n",
    "ax1.set_title('x_1')\n",
    "ax1.plot(x1, y, '.b')\n",
    "ax2.set_title('x_2')\n",
    "ax2.plot(x2, y, '.b');"
   ]
  },
  {
   "cell_type": "markdown",
   "metadata": {},
   "source": [
    "Note that, for our gradients, when having multiple predictors $x_j$ with $j \\in 1,\\ldots, k$\n",
    "\n",
    "$$ \\frac{dJ}{dm_j}J(m_j,b) = -2\\sum_{i = 1}^n x_{j,i}(y_i - (\\sum_{j=1}^km{x_{j,i}} + b)) = -2\\sum_{i = 1}^n x_{j,i}*\\epsilon_i$$\n",
    "$$ \\frac{dJ}{db}J(m_j,b) = -2\\sum_{i = 1}^n(y_i - (\\sum_{j=1}^km{x_{j,i}} + b)) = -2\\sum_{i = 1}^n \\epsilon_i $$\n",
    "    \n",
    "\n",
    "So we'll have one gradient per predictor along with the gradient for the intercept!\n",
    "\n",
    "Create the `step_gradient_multi` function below. As we said before, this means that we have more than one feature that we are using as an independent variable in the regression. This function will have the same inputs as `step_gradient`, but it will be able to handle having more than one value for m. It should return the final values for b and m in the form of a tuple.\n",
    "\n",
    "- `b_current` refers to the y-intercept at the current step\n",
    "- `m_current` refers to the slope at the current step\n",
    "- `points` are the data points to which we want to fit a line\n",
    "\n",
    "You might have to refactor your `error` at function if you want to use it with multiple m values."
   ]
  },
  {
   "cell_type": "code",
   "execution_count": 11,
   "metadata": {},
   "outputs": [],
   "source": [
    "def step_gradient_multi(b_current, m_current ,points):\n",
    "    b_gradient = 0\n",
    "    m_gradient = np.zeros(len(m_current))\n",
    "    learning_rate = .1\n",
    "    N = float(len(points))\n",
    "    for i in range(0, len(points)):\n",
    "        y = points[i][0]\n",
    "        x = points[i][1:(len(m_current)+1)] \n",
    "        b_gradient += -(1/N)  * (y -  (sum(m_current * x) + b_current))\n",
    "        m_gradient += -(1/N) * x * (y -  (sum(m_current * x) + b_current))\n",
    "    new_b = b_current - (learning_rate * b_gradient)\n",
    "    new_m = m_current - (learning_rate * m_gradient)\n",
    "    return (new_b, new_m)"
   ]
  },
  {
   "cell_type": "markdown",
   "metadata": {},
   "source": [
    "Apply 1 step to our data"
   ]
  },
  {
   "cell_type": "code",
   "execution_count": 12,
   "metadata": {},
   "outputs": [
    {
     "data": {
      "text/plain": [
       "(0.13965491088061555, array([0.093847, 0.038762]))"
      ]
     },
     "execution_count": 12,
     "metadata": {},
     "output_type": "execute_result"
    }
   ],
   "source": [
    "b = 0\n",
    "m = [0,0]\n",
    "updated_b, updated_m = step_gradient_multi(b, m, data)\n",
    "updated_b, updated_m"
   ]
  },
  {
   "cell_type": "markdown",
   "metadata": {},
   "source": [
    "Apply 500 steps to our data"
   ]
  },
  {
   "cell_type": "code",
   "execution_count": 13,
   "metadata": {},
   "outputs": [],
   "source": [
    "# set our initial step with m and b values, and the corresponding error.\n",
    "b = 0\n",
    "m = [0,0]\n",
    "iterations = []\n",
    "for i in range(1000):\n",
    "    iteration = step_gradient_multi(b, m, data)\n",
    "    b= iteration[0]\n",
    "    m = []\n",
    "    for j in range(len(iteration[1])):\n",
    "        m.append(iteration[1][j])\n",
    "    iterations.append(iteration)"
   ]
  },
  {
   "cell_type": "markdown",
   "metadata": {},
   "source": [
    "Look at the last step"
   ]
  },
  {
   "cell_type": "code",
   "execution_count": 14,
   "metadata": {},
   "outputs": [
    {
     "data": {
      "text/plain": [
       "(1.9952824763694614, [3.001051016154264, -4.006580687506606])"
      ]
     },
     "execution_count": 14,
     "metadata": {},
     "output_type": "execute_result"
    }
   ],
   "source": [
    "b, m"
   ]
  },
  {
   "cell_type": "code",
   "execution_count": 15,
   "metadata": {},
   "outputs": [
    {
     "data": {
      "image/png": "[encoded data removed]",
      "text/plain": [
       "<Figure size 720x360 with 2 Axes>"
      ]
     },
     "metadata": {
      "needs_background": "light"
     },
     "output_type": "display_data"
    }
   ],
   "source": [
    "\n",
    "x1 = np.random.rand(100,1).reshape(100)\n",
    "x2 = np.random.rand(100,1).reshape(100)\n",
    "y_randterm = np.random.normal(0,0.2,100)\n",
    "y = 2+ 3* x1+ -4*x2 + y_randterm\n",
    "\n",
    "data = np.array([y, x1, x2])\n",
    "data = np.transpose(data)\n",
    "f, (ax1, ax2) = plt.subplots(1, 2, figsize=(10, 5), sharey=True)\n",
    "ax1.set_title('x_1')\n",
    "ax1.plot(x1, y, '.b')\n",
    "\n",
    "ax1.plot(x1, (m[0] * x1 + b))\n",
    "ax2.set_title('x_2')\n",
    "\n",
    "ax2.plot(x2, (m[1] * x2 + b))\n",
    "ax2.plot(x2, y, '.b');"
   ]
  },
  {
   "cell_type": "markdown",
   "metadata": {},
   "source": [
    "## Level up - optional\n",
    "\n",
    "Try your own gradient descent algorithm on the Boston Housing data set, and compare with the result from scikit learn!\n",
    "Be careful to test on a few continuous variables at first, and see how you perform. Scikit learn has built-in \"regularization\" parameters to make optimization more feasible for many parameters.\n",
    "\n",
    "## Summary\n",
    "\n",
    "In this section, we saw our gradient descent formulas in action.  The core of the gradient descent functions is understanding the two lines: \n",
    "\n",
    "$$ \\frac{dJ}{dm}J(m,b) = -2\\sum_{i = 1}^n x(y_i - (mx_i + b)) = -2\\sum_{i = 1}^n x_i*\\epsilon_i$$\n",
    "$$ \\frac{dJ}{db}J(m,b) = -2\\sum_{i = 1}^n(y_i - (mx_i + b)) = -2\\sum_{i = 1}^n \\epsilon_i $$\n",
    "    \n",
    "Which both look to the errors of the current regression line for our dataset to determine how to update the regression line next.  These formulas came from our cost function, $J(m,b) = \\sum_{i = 1}^n(y_i - (mx_i + b))^2 $, and using the gradient to find the direction of steepest descent.  Translating this into code, and seeing how the regression line continued to improve in alignment with the data, we saw the effectiveness of this technique in practice. Additionally, we saw how you can extend the gradient descent algorithm to multiple predictors."
   ]
  }
 ],
 "metadata": {
  "kernelspec": {
   "display_name": "Python 3",
   "language": "python",
   "name": "python3"
  },
  "language_info": {
   "codemirror_mode": {
    "name": "ipython",
    "version": 3
   },
   "file_extension": ".py",
   "mimetype": "text/x-python",
   "name": "python",
   "nbconvert_exporter": "python",
   "pygments_lexer": "ipython3",
   "version": "3.6.10"
  }
 },
 "nbformat": 4,
 "nbformat_minor": 4
}
